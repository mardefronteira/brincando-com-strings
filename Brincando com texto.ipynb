{
 "cells": [
  {
   "cell_type": "markdown",
   "metadata": {},
   "source": [
    "# Brincando com texto no Python\n",
    "por Marcela Mancino, baseado no material didático de [Allison Parrish](http://www.decontextualize.com/).\n",
    "___"
   ]
  },
  {
   "cell_type": "markdown",
   "metadata": {},
   "source": [
    "## Strings\n",
    "Em Python, podemos confirmar o tipo de um valor usando a função `type()`."
   ]
  },
  {
   "cell_type": "code",
   "execution_count": 1,
   "metadata": {
    "scrolled": true
   },
   "outputs": [
    {
     "data": {
      "text/plain": [
       "str"
      ]
     },
     "execution_count": 1,
     "metadata": {},
     "output_type": "execute_result"
    }
   ],
   "source": [
    "type('isso é um texto')"
   ]
  },
  {
   "cell_type": "markdown",
   "metadata": {},
   "source": [
    "Valores do tipo _texto_ são chamados ___string___. Para criar uma _string_, basta colocar o valor entre aspas. É possível usar aspas duplas ou simples, desde que comece e termine com o mesmo tipo."
   ]
  },
  {
   "cell_type": "code",
   "execution_count": 2,
   "metadata": {},
   "outputs": [
    {
     "name": "stdout",
     "output_type": "stream",
     "text": [
      "<class 'str'>\n",
      "<class 'str'>\n"
     ]
    }
   ],
   "source": [
    "print(type('isto é um texto'))\n",
    "print(type(\"e isto também!\"))"
   ]
  },
  {
   "cell_type": "markdown",
   "metadata": {},
   "source": [
    "Caso queira usar várias linhas, é possível também utilizar três aspas duplas."
   ]
  },
  {
   "cell_type": "code",
   "execution_count": 3,
   "metadata": {},
   "outputs": [
    {
     "name": "stdout",
     "output_type": "stream",
     "text": [
      "tipo\n",
      "    isso\n",
      "        aqui\n"
     ]
    }
   ],
   "source": [
    "print(\"\"\"tipo\n",
    "    isso\n",
    "        aqui\"\"\")"
   ]
  },
  {
   "cell_type": "markdown",
   "metadata": {},
   "source": [
    "Como qualquer outro valor, textos podem ser armazenados em variáveis."
   ]
  },
  {
   "cell_type": "code",
   "execution_count": 4,
   "metadata": {},
   "outputs": [
    {
     "name": "stdout",
     "output_type": "stream",
     "text": [
      "uau, que legal! 😋😛😊\n"
     ]
    }
   ],
   "source": [
    "legal = 'uau, que legal! 😋😛😊'\n",
    "print(legal)"
   ]
  },
  {
   "cell_type": "markdown",
   "metadata": {},
   "source": [
    "Alguns caracteres não podem ser escritos diretamente no texto. Por exemplo, se temos uma _string_ com aspas simples, e queremos colocar uma aspas simples no texto em si, precisamos usar o que chamamos de ___caractere de escape___. Por exemplo, se queremos avaliar a seguinte frase:"
   ]
  },
  {
   "cell_type": "code",
   "execution_count": 5,
   "metadata": {},
   "outputs": [
    {
     "ename": "SyntaxError",
     "evalue": "invalid syntax (<ipython-input-5-d171479e5b1c>, line 1)",
     "output_type": "error",
     "traceback": [
      "\u001b[1;36m  File \u001b[1;32m\"<ipython-input-5-d171479e5b1c>\"\u001b[1;36m, line \u001b[1;32m1\u001b[0m\n\u001b[1;33m    citacao = 'um dia minha amiga me disse: 'vou te contar, viu?''\u001b[0m\n\u001b[1;37m                                               ^\u001b[0m\n\u001b[1;31mSyntaxError\u001b[0m\u001b[1;31m:\u001b[0m invalid syntax\n"
     ]
    }
   ],
   "source": [
    "citacao = 'um dia minha amiga me disse: 'vou te contar, viu?''"
   ]
  },
  {
   "cell_type": "markdown",
   "metadata": {},
   "source": [
    "Ops! Esse erro indica que o texto terminou, e depois o programa não sabia o que fazer com a frase _vou te contar, viu?''_. <br>\n",
    "Para que isso não aconteça, podemos adicionar uma barra inversa (__\\\\__) antes do caractere. Ela é o chamado caractere de escape, já que altera o significado do caractere que vem depois dela."
   ]
  },
  {
   "cell_type": "code",
   "execution_count": null,
   "metadata": {},
   "outputs": [],
   "source": [
    "citacao = 'um dia minha amiga me disse: \\'vou te contar, viu?\\''\n",
    "print(citacao)"
   ]
  },
  {
   "cell_type": "markdown",
   "metadata": {},
   "source": [
    "O caractere de escape também possui algumas funções especiais dependendo da letra que vem depois dele. Quando o colocamos à frente de uma letra qualquer, ele lerá a letra como um comando, causando alterações ao texto."
   ]
  },
  {
   "cell_type": "code",
   "execution_count": null,
   "metadata": {},
   "outputs": [],
   "source": [
    "citacao = 'um \\dia \\minha \\amiga \\me \\disse: \\'\\vou \\te \\contar, \\viu?\\''\n",
    "print(citacao)"
   ]
  },
  {
   "cell_type": "markdown",
   "metadata": {},
   "source": [
    "Entre as funções da barra inversa, algumas que nos podem ser úteis são:\n",
    "- `\\'` ou `\\\"` para adicionar aspas ao texto;\n",
    "- `\\\\` como a barra inversa é o caractere de escape, é preciso colocá-la à frente de si mesma caso queiramos usar uma barra inversa no texto;\n",
    "- `\\n` para pular uma linha dentro da _string_;\n",
    "- `\\t` para adicionar um espaço _tab_ ao texto.\n",
    "O exemplo abaixo utiliza todos eles:"
   ]
  },
  {
   "cell_type": "code",
   "execution_count": null,
   "metadata": {},
   "outputs": [],
   "source": [
    "citacao = 'um dia minha amiga me disse: \\n\\t\\'vou te contar, viu?\\'\\n¯\\\\_(°_°)_/¯'\n",
    "print(citacao)"
   ]
  },
  {
   "cell_type": "markdown",
   "metadata": {},
   "source": [
    "Além da função `print()`, podemos simplesmente avaliar uma variável texto para ver seu conteúdo. Porém, dessa forma, os caracteres especiais não são interpretados, e o que vemos é exatamente como está escrito na variável. Por exemplo:"
   ]
  },
  {
   "cell_type": "code",
   "execution_count": null,
   "metadata": {},
   "outputs": [],
   "source": [
    "citacao"
   ]
  },
  {
   "cell_type": "markdown",
   "metadata": {},
   "source": [
    "## Pergunte ao texto <br>\n",
    "Para inventar moda com os textos, podemos começar fazendo algumas perguntas através de funções e operadores que retornam informações sobre nosso texto.<br>"
   ]
  },
  {
   "cell_type": "markdown",
   "metadata": {},
   "source": [
    "#### Qual é o seu tamanho?\n",
    "Para sabermos o tamanho de um texto, usamos a função `len()`, que retorna quantos caracteres o texto possui."
   ]
  },
  {
   "cell_type": "code",
   "execution_count": null,
   "metadata": {},
   "outputs": [],
   "source": [
    "len(\"qual é o tamanho desse texto?\")"
   ]
  },
  {
   "cell_type": "markdown",
   "metadata": {},
   "source": [
    "#### Este texto faz parte de você?\n",
    "É possível saber se uma frase ou palavra está contida dentro de outra usando o operador `in`. O operador retorna um valor lógico (_boolean_), ou seja, verdadeiro ou falso. Chamamos os textos que se encontram dentro de outros textos de _substring_."
   ]
  },
  {
   "cell_type": "code",
   "execution_count": null,
   "metadata": {},
   "outputs": [],
   "source": [
    "\"esta palavra\" in \"será que esta frase contém esta palavra?\""
   ]
  },
  {
   "cell_type": "code",
   "execution_count": 6,
   "metadata": {},
   "outputs": [
    {
     "data": {
      "text/plain": [
       "False"
      ]
     },
     "execution_count": 6,
     "metadata": {},
     "output_type": "execute_result"
    }
   ],
   "source": [
    "\"aquela palavra\" in \"será que esta frase contém esta palavra?\""
   ]
  },
  {
   "cell_type": "markdown",
   "metadata": {},
   "source": [
    "Da mesma forma, é possível checar se uma _string_ inicia ou termina com um texto específico através dos métodos `.startswith()` ou `.endswith()`. Ambos também retornam valores lógicos (_boolean_)"
   ]
  },
  {
   "cell_type": "code",
   "execution_count": 7,
   "metadata": {},
   "outputs": [
    {
     "data": {
      "text/plain": [
       "True"
      ]
     },
     "execution_count": 7,
     "metadata": {},
     "output_type": "execute_result"
    }
   ],
   "source": [
    "\"começo\".startswith(\"co\")"
   ]
  },
  {
   "cell_type": "code",
   "execution_count": 8,
   "metadata": {
    "scrolled": true
   },
   "outputs": [
    {
     "data": {
      "text/plain": [
       "False"
      ]
     },
     "execution_count": 8,
     "metadata": {},
     "output_type": "execute_result"
    }
   ],
   "source": [
    "\"fim\".endswith(\".\")"
   ]
  },
  {
   "cell_type": "markdown",
   "metadata": {},
   "source": [
    "Para saber qual é a localização de um texto dentro de outro texto, podemos utilizar o método `.find()`. Esse método retorna o índice no qual a _substring_ é encontrada. Caso ela não esteja presente no texto, retorna -1. Note que, caso a substring apareça mais de uma vez, este método só retorna o indíce da primeira vez em que ela é encontrada."
   ]
  },
  {
   "cell_type": "code",
   "execution_count": 9,
   "metadata": {},
   "outputs": [
    {
     "data": {
      "text/plain": [
       "7"
      ]
     },
     "execution_count": 9,
     "metadata": {},
     "output_type": "execute_result"
    }
   ],
   "source": [
    "\"Onde é que está a substring que eu quero?\".find(\"que\")"
   ]
  },
  {
   "cell_type": "code",
   "execution_count": 10,
   "metadata": {},
   "outputs": [
    {
     "data": {
      "text/plain": [
       "-1"
      ]
     },
     "execution_count": 10,
     "metadata": {},
     "output_type": "execute_result"
    }
   ],
   "source": [
    "\"Onde é que está a substring que eu quero?\".find(\"ué\")"
   ]
  },
  {
   "cell_type": "markdown",
   "metadata": {},
   "source": [
    "O método `.count()` retorna quantas vezes uma _substring_ é encontrada."
   ]
  },
  {
   "cell_type": "code",
   "execution_count": 11,
   "metadata": {},
   "outputs": [
    {
     "data": {
      "text/plain": [
       "3"
      ]
     },
     "execution_count": 11,
     "metadata": {},
     "output_type": "execute_result"
    }
   ],
   "source": [
    "\"Onde é que está a substring que eu quero?\".count(\"que\")"
   ]
  },
  {
   "cell_type": "markdown",
   "metadata": {},
   "source": [
    "#### Tá gritando?\n",
    "Os métodos `.islower()` e `.isupper()` informam se um texto é todo em caixa alta ou baixa. Caso possua letras em caixa alta e baixa, ambos retornaram `false`."
   ]
  },
  {
   "cell_type": "code",
   "execution_count": 12,
   "metadata": {},
   "outputs": [
    {
     "name": "stdout",
     "output_type": "stream",
     "text": [
      "True\n"
     ]
    }
   ],
   "source": [
    "print(\"tá doido?\".islower())"
   ]
  },
  {
   "cell_type": "code",
   "execution_count": 13,
   "metadata": {},
   "outputs": [
    {
     "name": "stdout",
     "output_type": "stream",
     "text": [
      "False\n",
      "False\n"
     ]
    }
   ],
   "source": [
    "print(\"Tá doido?\".islower())\n",
    "print(\"Tá doido?\".isupper())"
   ]
  },
  {
   "cell_type": "code",
   "execution_count": 14,
   "metadata": {},
   "outputs": [
    {
     "name": "stdout",
     "output_type": "stream",
     "text": [
      "True\n"
     ]
    }
   ],
   "source": [
    "print(\"TÁ DOIDO?\".isupper())"
   ]
  },
  {
   "cell_type": "markdown",
   "metadata": {},
   "source": [
    "## Transformações\n",
    "Existem diversas formas de transformar _strings_. Assim como várias das perguntas que vimos, essas formas são, na verdade, __métodos__. Ou seja, são funções específicas ao tipo -- no caso, _strings_ -- que são chamadas usando a seguinte sintaxe:\n",
    "`nossaVariavel.metodo(argumentos)`<br/>\n",
    "Alguns métodos precisam de argumentos, como `.find()`, que leva uma _substring_, e outros não, como `.isupper()`. Isso depende do que o método faz, e se precisa de alguma informação adicional para funcionar."
   ]
  },
  {
   "cell_type": "markdown",
   "metadata": {},
   "source": [
    "#### MaiÚScuLas e MiNÚscuLaS\n",
    "- `.lower()` transforma todos os caracteres em minúsculas;\n",
    "- `.upper()` transforma todos os caracteres em maiúsculas;\n",
    "- `.swapcase()` inverte minúsculas e maiúsculas;\n",
    "- `.title()` transforma o primeiro caractere de cada palavra em maiúscula, e o restante em minúsculas;\n",
    "- `.capitalize()` transforma o primeiro caractere do texto em maiúscula, e o restante em minúsculas;"
   ]
  },
  {
   "cell_type": "code",
   "execution_count": 15,
   "metadata": {},
   "outputs": [
    {
     "name": "stdout",
     "output_type": "stream",
     "text": [
      "original: FaLa GuRiaS!!!\n",
      ".lower(): fala gurias!!!\n",
      ".upper(): FALA GURIAS!!!\n",
      ".swapcase(): fAlA gUrIAs!!!\n",
      ".title(): Fala Gurias!!!\n",
      ".capitalize(): Fala gurias!!!\n"
     ]
    }
   ],
   "source": [
    "falagurias = \"FaLa GuRiaS!!!\"\n",
    "print(\"original: \" + falagurias)\n",
    "print(\".lower(): \" + falagurias.lower())\n",
    "print(\".upper(): \" + falagurias.upper())\n",
    "print(\".swapcase(): \" + falagurias.swapcase())\n",
    "print(\".title(): \" + falagurias.title())\n",
    "print(\".capitalize(): \" + falagurias.capitalize())"
   ]
  },
  {
   "cell_type": "markdown",
   "metadata": {},
   "source": [
    "#### Trocar e remover\n",
    "O método `.replace()` leva dois argumentos: a _substring_ que queremos substituir, e uma segunda _string_ que é o que será colocado em seu lugar."
   ]
  },
  {
   "cell_type": "code",
   "execution_count": 16,
   "metadata": {},
   "outputs": [
    {
     "data": {
      "text/plain": [
       "'Bi, que frise miis chiti'"
      ]
     },
     "execution_count": 16,
     "metadata": {},
     "output_type": "execute_result"
    }
   ],
   "source": [
    "\"Ba, que frase mais chata\".replace('a','i')"
   ]
  },
  {
   "cell_type": "markdown",
   "metadata": {},
   "source": [
    "Esse método também pode ser usado com uma string vazia, removendo todas as ocorrências da _substring_. Também é possível usar vários métodos (ou o mesmo várias vezes) em sequência.<br/>\n",
    "(sim, tem jeitos melhores de obter este resultado, mas por hora ficamos assim)"
   ]
  },
  {
   "cell_type": "code",
   "execution_count": 17,
   "metadata": {},
   "outputs": [
    {
     "data": {
      "text/plain": [
       "'Olh qu hpstr d dcd d 10'"
      ]
     },
     "execution_count": 17,
     "metadata": {},
     "output_type": "execute_result"
    }
   ],
   "source": [
    "\"Olhe que hipster da decada de 10\".replace('a','').replace('e','').replace('i','')"
   ]
  },
  {
   "cell_type": "markdown",
   "metadata": {},
   "source": [
    "O método `.strip()` retira espaços do início e final da string."
   ]
  },
  {
   "cell_type": "code",
   "execution_count": 18,
   "metadata": {},
   "outputs": [
    {
     "data": {
      "text/plain": [
       "'E   S  P A  Ç   O'"
      ]
     },
     "execution_count": 18,
     "metadata": {},
     "output_type": "execute_result"
    }
   ],
   "source": [
    "\"                        E   S  P A  Ç   O                      \".strip()"
   ]
  },
  {
   "cell_type": "markdown",
   "metadata": {},
   "source": [
    "## Outros métodos\n",
    "Existem diversos outros métodos que podem ser utilizados com _strings_. Para ver uma lista completa dos métodos de um tipo, podemos utilizar a função `dir()`, dando a ela um valor ou variável do tipo que queremos."
   ]
  },
  {
   "cell_type": "code",
   "execution_count": 19,
   "metadata": {},
   "outputs": [
    {
     "data": {
      "text/plain": [
       "['__add__',\n",
       " '__class__',\n",
       " '__contains__',\n",
       " '__delattr__',\n",
       " '__dir__',\n",
       " '__doc__',\n",
       " '__eq__',\n",
       " '__format__',\n",
       " '__ge__',\n",
       " '__getattribute__',\n",
       " '__getitem__',\n",
       " '__getnewargs__',\n",
       " '__gt__',\n",
       " '__hash__',\n",
       " '__init__',\n",
       " '__init_subclass__',\n",
       " '__iter__',\n",
       " '__le__',\n",
       " '__len__',\n",
       " '__lt__',\n",
       " '__mod__',\n",
       " '__mul__',\n",
       " '__ne__',\n",
       " '__new__',\n",
       " '__reduce__',\n",
       " '__reduce_ex__',\n",
       " '__repr__',\n",
       " '__rmod__',\n",
       " '__rmul__',\n",
       " '__setattr__',\n",
       " '__sizeof__',\n",
       " '__str__',\n",
       " '__subclasshook__',\n",
       " 'capitalize',\n",
       " 'casefold',\n",
       " 'center',\n",
       " 'count',\n",
       " 'encode',\n",
       " 'endswith',\n",
       " 'expandtabs',\n",
       " 'find',\n",
       " 'format',\n",
       " 'format_map',\n",
       " 'index',\n",
       " 'isalnum',\n",
       " 'isalpha',\n",
       " 'isascii',\n",
       " 'isdecimal',\n",
       " 'isdigit',\n",
       " 'isidentifier',\n",
       " 'islower',\n",
       " 'isnumeric',\n",
       " 'isprintable',\n",
       " 'isspace',\n",
       " 'istitle',\n",
       " 'isupper',\n",
       " 'join',\n",
       " 'ljust',\n",
       " 'lower',\n",
       " 'lstrip',\n",
       " 'maketrans',\n",
       " 'partition',\n",
       " 'replace',\n",
       " 'rfind',\n",
       " 'rindex',\n",
       " 'rjust',\n",
       " 'rpartition',\n",
       " 'rsplit',\n",
       " 'rstrip',\n",
       " 'split',\n",
       " 'splitlines',\n",
       " 'startswith',\n",
       " 'strip',\n",
       " 'swapcase',\n",
       " 'title',\n",
       " 'translate',\n",
       " 'upper',\n",
       " 'zfill']"
      ]
     },
     "execution_count": 19,
     "metadata": {},
     "output_type": "execute_result"
    }
   ],
   "source": [
    "dir(\"bla bla\")"
   ]
  },
  {
   "cell_type": "markdown",
   "metadata": {},
   "source": [
    "## Índices\n",
    "De certa forma, uma _string_ é uma lista de caracteres. Por isso, é possível fazer operar através da manipulação dos índices desses caracteres. Vamos trabalhar com a frase abaixo para entender isso melhor:"
   ]
  },
  {
   "cell_type": "code",
   "execution_count": 20,
   "metadata": {},
   "outputs": [
    {
     "data": {
      "text/plain": [
       "48"
      ]
     },
     "execution_count": 20,
     "metadata": {},
     "output_type": "execute_result"
    }
   ],
   "source": [
    "frase = \"Bom dia, sou a bela frase com que vamos brincar!\"\n",
    "len(frase)"
   ]
  },
  {
   "cell_type": "markdown",
   "metadata": {},
   "source": [
    "Da mesma forma que faríamos com uma lista, podemos encontrar um caractere através de seu índice. Um índice também pode ser negativo, e nesse caso ele conta os índices de forma inversa, do final para o início da frase.<br/><br/>Lembre-se que o índice começa a contar do número 0, e não 1!\n"
   ]
  },
  {
   "cell_type": "code",
   "execution_count": 21,
   "metadata": {},
   "outputs": [
    {
     "name": "stdout",
     "output_type": "stream",
     "text": [
      "B!\n"
     ]
    }
   ],
   "source": [
    "print(frase[0] + frase[-1])"
   ]
  },
  {
   "cell_type": "markdown",
   "metadata": {},
   "source": [
    "Podemos também encontrar um pedaço (_slice_) da frase usando a seguinte sintaxe: `string[índiceInicial:índiceFinal]`. Note que o índice final não inclui o caractere correspondente àquele índice."
   ]
  },
  {
   "cell_type": "code",
   "execution_count": 22,
   "metadata": {},
   "outputs": [
    {
     "name": "stdout",
     "output_type": "stream",
     "text": [
      "bela frase com\n"
     ]
    }
   ],
   "source": [
    "print(frase[15:29])"
   ]
  },
  {
   "cell_type": "markdown",
   "metadata": {},
   "source": [
    "Se omitirmos o primeiro ou o segundo índice, teremos como resposta um _slice_ que vai do início até o índice definido, ou do índice definido até o final."
   ]
  },
  {
   "cell_type": "code",
   "execution_count": 23,
   "metadata": {
    "scrolled": false
   },
   "outputs": [
    {
     "name": "stdout",
     "output_type": "stream",
     "text": [
      "Bom dia\n",
      "vamos brincar!\n"
     ]
    }
   ],
   "source": [
    "print(frase[:7])\n",
    "print(frase[-14:])"
   ]
  },
  {
   "cell_type": "markdown",
   "metadata": {},
   "source": [
    "## Listas de _strings_\n",
    "_Strings_ se parecem com listas, mas não possuem todos os métodos que podemos utilizar com elas. Por isso, frequentemente transformamos nossos textos em listas de frases ou palavras através do método `.split()`. Este método recebe como argumento a substring que será utilizada para separar o texto em itens de uma lista. Se não oferecemos argumento, o texto é quebrado em todos os espaços."
   ]
  },
  {
   "cell_type": "code",
   "execution_count": 24,
   "metadata": {},
   "outputs": [
    {
     "name": "stdout",
     "output_type": "stream",
     "text": [
      "Um belo texto de exemplo para podermos brincar muito com o mundo divertido das strings! Uau, é mesmo muito interessante tudo o que se pode fazer com uma ferramenta dessas! Programar é muito divertido!\n"
     ]
    }
   ],
   "source": [
    "texto = \"\"\"Um belo texto de exemplo para podermos brincar muito com o mundo divertido das strings! Uau, é mesmo muito interessante tudo o que se pode fazer com uma ferramenta dessas! Programar é muito divertido!\"\"\"\n",
    "print(texto)"
   ]
  },
  {
   "cell_type": "code",
   "execution_count": 25,
   "metadata": {},
   "outputs": [
    {
     "name": "stdout",
     "output_type": "stream",
     "text": [
      "['Um belo texto de exemplo para podermos brincar muito com o mundo divertido das strings', ' Uau, é mesmo muito interessante tudo o que se pode fazer com uma ferramenta dessas', ' Programar é muito divertido', '']\n"
     ]
    }
   ],
   "source": [
    "print(texto.split('!'))"
   ]
  },
  {
   "cell_type": "code",
   "execution_count": 26,
   "metadata": {},
   "outputs": [
    {
     "name": "stdout",
     "output_type": "stream",
     "text": [
      "['Um', 'belo', 'texto', 'de', 'exemplo', 'para', 'podermos', 'brincar', 'muito', 'com', 'o', 'mundo', 'divertido', 'das', 'strings!', 'Uau,', 'é', 'mesmo', 'muito', 'interessante', 'tudo', 'o', 'que', 'se', 'pode', 'fazer', 'com', 'uma', 'ferramenta', 'dessas!', 'Programar', 'é', 'muito', 'divertido!']\n"
     ]
    }
   ],
   "source": [
    "print(texto.split())"
   ]
  },
  {
   "cell_type": "markdown",
   "metadata": {},
   "source": [
    "Ainda, se quisermos uma lista de caracteres, podemos utilizar a função `list()`."
   ]
  },
  {
   "cell_type": "code",
   "execution_count": 27,
   "metadata": {},
   "outputs": [
    {
     "name": "stdout",
     "output_type": "stream",
     "text": [
      "['U', 'm', ' ', 'b', 'e', 'l', 'o', ' ', 't', 'e', 'x', 't', 'o', ' ', 'd', 'e', ' ', 'e', 'x', 'e', 'm', 'p', 'l', 'o', ' ', 'p', 'a', 'r', 'a', ' ', 'p', 'o', 'd', 'e', 'r', 'm', 'o', 's', ' ', 'b', 'r', 'i', 'n', 'c', 'a', 'r', ' ', 'm', 'u', 'i', 't', 'o', ' ', 'c', 'o', 'm', ' ', 'o', ' ', 'm', 'u', 'n', 'd', 'o', ' ', 'd', 'i', 'v', 'e', 'r', 't', 'i', 'd', 'o', ' ', 'd', 'a', 's', ' ', 's', 't', 'r', 'i', 'n', 'g', 's', '!', ' ', 'U', 'a', 'u', ',', ' ', 'é', ' ', 'm', 'e', 's', 'm', 'o', ' ', 'm', 'u', 'i', 't', 'o', ' ', 'i', 'n', 't', 'e', 'r', 'e', 's', 's', 'a', 'n', 't', 'e', ' ', 't', 'u', 'd', 'o', ' ', 'o', ' ', 'q', 'u', 'e', ' ', 's', 'e', ' ', 'p', 'o', 'd', 'e', ' ', 'f', 'a', 'z', 'e', 'r', ' ', 'c', 'o', 'm', ' ', 'u', 'm', 'a', ' ', 'f', 'e', 'r', 'r', 'a', 'm', 'e', 'n', 't', 'a', ' ', 'd', 'e', 's', 's', 'a', 's', '!', ' ', 'P', 'r', 'o', 'g', 'r', 'a', 'm', 'a', 'r', ' ', 'é', ' ', 'm', 'u', 'i', 't', 'o', ' ', 'd', 'i', 'v', 'e', 'r', 't', 'i', 'd', 'o', '!']\n"
     ]
    }
   ],
   "source": [
    "print(list(texto))"
   ]
  },
  {
   "cell_type": "markdown",
   "metadata": {},
   "source": [
    "No sentido inverso, quando queremos que nossa lista volte a ser uma _string_, podemos utilizar o método `.join()`. Este método funciona um pouquinho diferente dos que vimos até aqui pois, diferente do `.split()` que é utilizado no texto base e leva como argumento a _substring_ a ser dividida, o método `.join()` é utilizado na _substring_ que queremos utilizar como \"cola\" da nossa lista, e recebe a lista em si como argumento. Confusa? Olhe o exemplo:"
   ]
  },
  {
   "cell_type": "code",
   "execution_count": 28,
   "metadata": {},
   "outputs": [
    {
     "name": "stdout",
     "output_type": "stream",
     "text": [
      "Lista: ['Um', 'belo', 'texto', 'de', 'exemplo', 'para', 'podermos', 'brincar', 'muito', 'com', 'o', 'mundo', 'divertido', 'das', 'strings!', 'Uau,', 'é', 'mesmo', 'muito', 'interessante', 'tudo', 'o', 'que', 'se', 'pode', 'fazer', 'com', 'uma', 'ferramenta', 'dessas!', 'Programar', 'é', 'muito', 'divertido!']\n",
      "Frase: Um belo texto de exemplo para podermos brincar muito com o mundo divertido das strings! Uau, é mesmo muito interessante tudo o que se pode fazer com uma ferramenta dessas! Programar é muito divertido!\n"
     ]
    }
   ],
   "source": [
    "texto = \"\"\"Um belo texto de exemplo para podermos brincar muito com o mundo divertido das strings! Uau, é mesmo muito interessante tudo o que se pode fazer com uma ferramenta dessas! Programar é muito divertido!\"\"\"\n",
    "# Para transformar o texto em lista, escrevemos:\n",
    "texto = texto.split()\n",
    "print(\"Lista:\",texto)\n",
    "# Para juntarmos o texto de novo, utilizamos '' como a \"cola\" entre as \n",
    "# palavras e indicamos a lista como argumento do método:\n",
    "texto = ' '.join(texto)\n",
    "print(\"Frase: \"+texto)"
   ]
  },
  {
   "cell_type": "markdown",
   "metadata": {},
   "source": [
    "Desse jeito, podemos ir transformando nossos textos em listas, e listas em textos, da forma que fizer mais sentido para o que queremos."
   ]
  },
  {
   "cell_type": "markdown",
   "metadata": {},
   "source": [
    "## Arquivos .txt\n",
    "Para facilitar nossa vida, podemos sempre importar arquivos de texto externo. Note que eles precisar ser arquivos plain text, e estarem codificadas em ASCII ou UTF-8 😑😑😑. Para abrí-los, utilizamos a função `open()`, seguida do método `.read()`, dando o nome do arquivo como argumento à primeira função.<br/><br/>\n",
    "Esse texto é a letra [dessa música aqui](https://www.youtube.com/watch?v=Yi6IStkKFFk), ouve porfa que é bom d+."
   ]
  },
  {
   "cell_type": "code",
   "execution_count": 29,
   "metadata": {},
   "outputs": [
    {
     "name": "stdout",
     "output_type": "stream",
     "text": [
      "Toda foda e justa, quando existe o coracao\n",
      "Eu que nao duvido precisar de alguem, ser de alguem\n",
      "E voce deixou, e bem por ai\n",
      "Nada permanecera inteiro\n",
      "\n",
      "Hoje eu senti os ossos inverter a direcao no fim\n",
      "Eu caminhei pelos amigos e os problemas que eu deixei\n",
      "Tantos gestos conhecidos\n",
      "E as licoes desaprendidas\n",
      "Tanta coisa eu digo sem querer partir\n",
      "\n",
      "Te enganando outra vez\n",
      "A saudade agora e o nosso jeito\n",
      "Boa viagem, andar tranquila\n",
      "Anos incriveis vao dizer\n",
      "Nosso jeito ainda e o tempo\n"
     ]
    }
   ],
   "source": [
    "anosIncriveis = open(\"anosincriveis.txt\").read()\n",
    "print(anosIncriveis)"
   ]
  },
  {
   "cell_type": "markdown",
   "metadata": {},
   "source": [
    "## Temperinho do universo\n",
    "Para dar uma variada nos resultados, podemos usar aleatoriedade. No caso, importaremos a bibliteca 'random'. Alguns de seus métodos são:\n",
    "- `random.shuffle(lista)` retorna toda a lista em uma ordem aleatória;\n",
    "- `random.choice(lista)` retorna um item aleatório da lista;\n",
    "- `random.sample(lista, num)` além da lista, recebe como argumento o número de itens desejado, retornando aquele número de itens aleatórios da lista."
   ]
  },
  {
   "cell_type": "code",
   "execution_count": 30,
   "metadata": {},
   "outputs": [
    {
     "name": "stdout",
     "output_type": "stream",
     "text": [
      "['dizer', 'coracao', 'e', 'gestos', 'ser', 'de', 'incriveis', 'jeito', 'Nosso', 'digo', 'as', 'viagem,', 'duvido', 'o', 'saudade', 'Eu', 'os', 'os', 'Tantos', 'desaprendidas', 'Boa', 'coisa', 'o', 'vao', 'bem', 'no', 'o', 'Eu', 'Tanta', 'nao', 'Hoje', 'a', 'vez', 'tranquila', 'amigos', 'fim', 'e', 'agora', 'tempo', 'E', 'Anos', 'inteiro', 'justa,', 'voce', 'conhecidos', 'caminhei', 'alguem', 'querer', 'Toda', 'enganando', 'jeito', 'e', 'eu', 'eu', 'por', 'nosso', 'de', 'ainda', 'deixou,', 'Nada', 'e', 'deixei', 'direcao', 'existe', 'que', 'senti', 'ai', 'Te', 'sem', 'e', 'foda', 'licoes', 'A', 'eu', 'pelos', 'outra', 'andar', 'alguem,', 'precisar', 'inverter', 'ossos', 'partir', 'que', 'quando', 'E', 'problemas', 'permanecera']\n"
     ]
    }
   ],
   "source": [
    "import random\n",
    "anosIncriveis = open(\"anosincriveis.txt\").read().split()\n",
    "random.shuffle(anosIncriveis)\n",
    "print(anosIncriveis)"
   ]
  },
  {
   "cell_type": "code",
   "execution_count": 31,
   "metadata": {},
   "outputs": [
    {
     "data": {
      "text/plain": [
       "'os'"
      ]
     },
     "execution_count": 31,
     "metadata": {},
     "output_type": "execute_result"
    }
   ],
   "source": [
    "random.choice(anosIncriveis)"
   ]
  },
  {
   "cell_type": "code",
   "execution_count": 32,
   "metadata": {},
   "outputs": [
    {
     "name": "stdout",
     "output_type": "stream",
     "text": [
      "['que', 'duvido', 'vez', 'saudade', 'e']\n"
     ]
    }
   ],
   "source": [
    "print(random.sample(anosIncriveis, 5))"
   ]
  },
  {
   "cell_type": "markdown",
   "metadata": {},
   "source": [
    "# Bora brincar de vdd"
   ]
  },
  {
   "cell_type": "code",
   "execution_count": 33,
   "metadata": {},
   "outputs": [
    {
     "name": "stdout",
     "output_type": "stream",
     "text": [
      "partir senti problemas coisa tantos e sem gestos querer conhecidos e inverter você licoes que fim você caminhei os direcao digo amigos a desaprendidas ossos você as pelos você os no tanta deixei hoje\n",
      "['os', 'ossos', 'pelos', 'amigos', 'os', 'problemas', 'tantos', 'gestos', 'conhecidos', 'as', 'licoes', 'desaprendidas']\n"
     ]
    }
   ],
   "source": [
    "import random\n",
    "\n",
    "anosIncriveis = \"\"\"Hoje eu senti os ossos inverter a direcao no fim\n",
    "Eu caminhei pelos amigos e os problemas que eu deixei\n",
    "Tantos gestos conhecidos\n",
    "E as licoes desaprendidas\n",
    "Tanta coisa eu digo sem querer partir\"\"\".lower()\n",
    "\n",
    "pira = anosIncriveis.replace(\"eu\",\"você\")\n",
    "pira = pira.split()\n",
    "random.shuffle(pira)\n",
    "pira = ' '.join(pira)\n",
    "\n",
    "teto = [item for item in anosIncriveis.split() if item.endswith('s')]\n",
    "\n",
    "print(pira)\n",
    "print(teto)"
   ]
  },
  {
   "cell_type": "markdown",
   "metadata": {},
   "source": [
    "### Compreensão de listas\n",
    "Tópico extra, mais avançado. Não se preocupe se não entender agora.\n",
    "\n",
    "A compreensão de listas é uma maneira concisa e INCRÍVEL de criar listas a partir de outras listas -- perfeito pra nós, que iremos trabalhar com texto. Por baixo dos panos, o que está acontecendo é o seguinte:\n",
    "\n",
    "`novaLista = []\n",
    "for item in lista:\n",
    "    if condicional_para_item:\n",
    "        novoItem = item.modificar()\n",
    "        novaLista.append(novoItem)`\n",
    "        \n",
    "Ou seja, criamos uma nova lista, a partir de uma lista inicial, tendo a possibilidade de checar quais itens queremos na lista, e se queremos que tenham alguma modificação. Desconstruindo o exemplo acima para adaptar-se à sintaxe real, temos o seguinte:\n",
    "\n",
    "`novaLista = [item.modificar() for item in lista if condicional_para_item]`\n",
    "\n",
    "🤯🤯🤯🤯🤯🤯🤯🤯🤯🤯🤯🤯🤯🤯🤯🤯🤯🤯🤯🤯🤯🤯🤯🤯🤯🤯🤯🤯🤯🤯🤯🤯🤯🤯🤯🤯🤯🤯🤯🤯🤯🤯🤯🤯🤯🤯🤯🤯🤯"
   ]
  },
  {
   "cell_type": "code",
   "execution_count": 34,
   "metadata": {},
   "outputs": [
    {
     "name": "stdout",
     "output_type": "stream",
     "text": [
      "rabendo rei rabendo raber raber rabemor, raberemor re romor rábior, rabidor rimplermente raberemor re romor rabedorer.\n"
     ]
    }
   ],
   "source": [
    "palavras = 'Sabendo o que sei e sabendo o que sabes e o que não sabes e o que não sabemos, ambos saberemos se somos sábios, sabidos ou simplesmente saberemos se somos sabedores.'.lower().split()\n",
    "texto = [palavra.replace('s','r') for palavra in palavras if palavra.startswith('s')]\n",
    "print(' '.join(texto))"
   ]
  },
  {
   "cell_type": "markdown",
   "metadata": {},
   "source": [
    "# FALOU MEU POLVO"
   ]
  }
 ],
 "metadata": {
  "kernelspec": {
   "display_name": "Python 3",
   "language": "python",
   "name": "python3"
  },
  "language_info": {
   "codemirror_mode": {
    "name": "ipython",
    "version": 3
   },
   "file_extension": ".py",
   "mimetype": "text/x-python",
   "name": "python",
   "nbconvert_exporter": "python",
   "pygments_lexer": "ipython3",
   "version": "3.7.1"
  }
 },
 "nbformat": 4,
 "nbformat_minor": 2
}
